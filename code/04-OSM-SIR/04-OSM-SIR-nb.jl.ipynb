{
 "cells": [
  {
   "cell_type": "code",
   "execution_count": 19,
   "metadata": {},
   "outputs": [
    {
     "name": "stderr",
     "output_type": "stream",
     "text": [
      "\u001b[32m\u001b[1m  Activating\u001b[22m\u001b[39m project at `~/Documents/Documents - spectra/Dev/Julia/abm-dsap/code/04-OSM-SIR`\n"
     ]
    }
   ],
   "source": [
    "# https://pszufe.github.io/OpenStreetMapX_Tutorial/JuliaCon2021/\n",
    "cd(@__DIR__)\n",
    "import Pkg\n",
    "Pkg.activate(\".\")"
   ]
  },
  {
   "cell_type": "code",
   "execution_count": 31,
   "metadata": {},
   "outputs": [
    {
     "name": "stderr",
     "output_type": "stream",
     "text": [
      "WARNING: redefinition of constant flm. This may fail, cause incorrect answers, or produce other errors.\n"
     ]
    }
   ],
   "source": [
    "using Random, Parameters, OpenStreetMapX, PyCall, CSV, DataFrames, SparseArrays, LightGraphs, DataStructures, Plots\n",
    "ENV[\"GKSwstype\"]=\"nul\"  # this parameter significantly speeds up generation of GR-based plots\n",
    "gr()\n",
    "using OpenStreetMapXPlot\n",
    "const flm = pyimport(\"folium\");"
   ]
  },
  {
   "cell_type": "code",
   "execution_count": 21,
   "metadata": {},
   "outputs": [
    {
     "data": {
      "text/plain": [
       "MapData"
      ]
     },
     "metadata": {},
     "output_type": "display_data"
    }
   ],
   "source": [
    "# m = get_map_data(\"maps/george_sq.osm\", use_cache=false, trim_to_connected_graph=true );\n",
    "# https://szufel-public.s3.us-east-2.amazonaws.com/central_torontoF.osm\n",
    "m = get_map_data(\"maps/central_torontoF.osm\", use_cache=false, trim_to_connected_graph=true );\n",
    "typeof(m)"
   ]
  },
  {
   "cell_type": "code",
   "execution_count": 22,
   "metadata": {},
   "outputs": [
    {
     "data": {
      "text/plain": [
       "{179, 354} directed simple Int64 graph"
      ]
     },
     "metadata": {},
     "output_type": "display_data"
    }
   ],
   "source": [
    "m.g"
   ]
  },
  {
   "cell_type": "code",
   "execution_count": 23,
   "metadata": {},
   "outputs": [
    {
     "data": {
      "text/plain": [
       "179-element Vector{Int64}:\n",
       "             29603223\n",
       "             26240542\n",
       "             25628766\n",
       "             34522600\n",
       "  3786828693378877191\n",
       "             29604863\n",
       "             29604906\n",
       "             29687986\n",
       "             29696827\n",
       "             29605043\n",
       "                    ⋮\n",
       "            118410163\n",
       "            394509546\n",
       "            281361927\n",
       "             26240577\n",
       "             53542723\n",
       " -5705736890598083847\n",
       "           3712797466\n",
       "           3722123211\n",
       "             59566700"
      ]
     },
     "metadata": {},
     "output_type": "display_data"
    }
   ],
   "source": [
    "m.n"
   ]
  },
  {
   "cell_type": "code",
   "execution_count": 24,
   "metadata": {},
   "outputs": [
    {
     "data": {
      "text/plain": [
       "Dict{Int64, ENU} with 744 entries:\n",
       "  6532307455 => ENU(-341.765, 565.58, -0.0342666)\n",
       "  6593471028 => ENU(255.988, 177.729, -0.00760988)\n",
       "  3700157943 => ENU(-269.491, -584.309, -0.0325004)\n",
       "  29688214   => ENU(547.111, 352.804, -0.0332043)\n",
       "  4204756690 => ENU(-126.107, -484.707, -0.0196979)\n",
       "  394497217  => ENU(401.392, 500.575, -0.0322913)\n",
       "  393546107  => ENU(-258.402, 113.932, -0.00624562)\n",
       "  32547299   => ENU(-220.929, 125.097, -0.00504936)\n",
       "  393551222  => ENU(-13.0844, 661.744, -0.0344082)\n",
       "  6294585469 => ENU(512.134, -209.903, -0.0239888)\n",
       "  1895652027 => ENU(-508.215, 721.56, -0.061109)\n",
       "  6294585463 => ENU(456.838, -228.439, -0.0204333)\n",
       "  6509238509 => ENU(-220.461, 123.631, -0.00500454)\n",
       "  393552046  => ENU(-380.81, 547.75, -0.0349156)\n",
       "  6509238507 => ENU(-221.429, 126.597, -0.00509632)\n",
       "  469107079  => ENU(-155.844, -409.655, -0.0150819)\n",
       "  7137874035 => ENU(-243.219, -88.4244, -0.00524407)\n",
       "  6509260328 => ENU(-267.934, 19.0377, -0.0056472)\n",
       "  29687649   => ENU(-233.151, -122.523, -0.00543369)\n",
       "  ⋮          => ⋮"
      ]
     },
     "metadata": {},
     "output_type": "display_data"
    }
   ],
   "source": [
    "m.nodes"
   ]
  },
  {
   "cell_type": "code",
   "execution_count": 25,
   "metadata": {},
   "outputs": [
    {
     "data": {
      "text/plain": [
       "\"lat\\tlon\\tname\\n43.656136534\\t-79.380729654\\tDundas\\n43.652346514\\t-79.379326503\\tQueen\\n43.649120879\\t-79.378045133\\tKing\\n43.645722666\\t-79.380462258\\tUnion\\n43.647645649\\t-79.385130483\\tSt Andrew\\n43.650874106\\t-79.386617316\\tOsgoode\\n43.654611638\\t-79.388295977\\tSt Patrick\\n\""
      ]
     },
     "metadata": {},
     "output_type": "display_data"
    }
   ],
   "source": [
    "ttc_data = \"\"\"\n",
    "lat\tlon\tname\n",
    "43.656136534\t-79.380729654\tDundas\n",
    "43.652346514\t-79.379326503\tQueen\n",
    "43.649120879\t-79.378045133\tKing\n",
    "43.645722666\t-79.380462258\tUnion\n",
    "43.647645649\t-79.385130483\tSt Andrew\n",
    "43.650874106\t-79.386617316\tOsgoode\n",
    "43.654611638\t-79.388295977\tSt Patrick\n",
    "\"\"\";# Sample file with real locations"
   ]
  },
  {
   "cell_type": "code",
   "execution_count": 26,
   "metadata": {},
   "outputs": [
    {
     "data": {
      "text/html": [
       "<div><div style = \"float: left;\"><span>7×3 DataFrame</span></div><div style = \"clear: both;\"></div></div><div class = \"data-frame\" style = \"overflow-x: scroll;\"><table class = \"data-frame\" style = \"margin-bottom: 6px;\"><thead><tr class = \"header\"><th class = \"rowNumber\" style = \"font-weight: bold; text-align: right;\">Row</th><th style = \"text-align: left;\">lat</th><th style = \"text-align: left;\">lon</th><th style = \"text-align: left;\">name</th></tr><tr class = \"subheader headerLastRow\"><th class = \"rowNumber\" style = \"font-weight: bold; text-align: right;\"></th><th title = \"Float64\" style = \"text-align: left;\">Float64</th><th title = \"Float64\" style = \"text-align: left;\">Float64</th><th title = \"String15\" style = \"text-align: left;\">String15</th></tr></thead><tbody><tr><td class = \"rowNumber\" style = \"font-weight: bold; text-align: right;\">1</td><td style = \"text-align: right;\">43.6561</td><td style = \"text-align: right;\">-79.3807</td><td style = \"text-align: left;\">Dundas</td></tr><tr><td class = \"rowNumber\" style = \"font-weight: bold; text-align: right;\">2</td><td style = \"text-align: right;\">43.6523</td><td style = \"text-align: right;\">-79.3793</td><td style = \"text-align: left;\">Queen</td></tr><tr><td class = \"rowNumber\" style = \"font-weight: bold; text-align: right;\">3</td><td style = \"text-align: right;\">43.6491</td><td style = \"text-align: right;\">-79.378</td><td style = \"text-align: left;\">King</td></tr><tr><td class = \"rowNumber\" style = \"font-weight: bold; text-align: right;\">4</td><td style = \"text-align: right;\">43.6457</td><td style = \"text-align: right;\">-79.3805</td><td style = \"text-align: left;\">Union</td></tr><tr><td class = \"rowNumber\" style = \"font-weight: bold; text-align: right;\">5</td><td style = \"text-align: right;\">43.6476</td><td style = \"text-align: right;\">-79.3851</td><td style = \"text-align: left;\">St Andrew</td></tr><tr><td class = \"rowNumber\" style = \"font-weight: bold; text-align: right;\">6</td><td style = \"text-align: right;\">43.6509</td><td style = \"text-align: right;\">-79.3866</td><td style = \"text-align: left;\">Osgoode</td></tr><tr><td class = \"rowNumber\" style = \"font-weight: bold; text-align: right;\">7</td><td style = \"text-align: right;\">43.6546</td><td style = \"text-align: right;\">-79.3883</td><td style = \"text-align: left;\">St Patrick</td></tr></tbody></table></div>"
      ],
      "text/latex": [
       "\\begin{tabular}{r|ccc}\n",
       "\t& lat & lon & name\\\\\n",
       "\t\\hline\n",
       "\t& Float64 & Float64 & String15\\\\\n",
       "\t\\hline\n",
       "\t1 & 43.6561 & -79.3807 & Dundas \\\\\n",
       "\t2 & 43.6523 & -79.3793 & Queen \\\\\n",
       "\t3 & 43.6491 & -79.378 & King \\\\\n",
       "\t4 & 43.6457 & -79.3805 & Union \\\\\n",
       "\t5 & 43.6476 & -79.3851 & St Andrew \\\\\n",
       "\t6 & 43.6509 & -79.3866 & Osgoode \\\\\n",
       "\t7 & 43.6546 & -79.3883 & St Patrick \\\\\n",
       "\\end{tabular}\n"
      ],
      "text/plain": [
       "\u001b[1m7×3 DataFrame\u001b[0m\n",
       "\u001b[1m Row \u001b[0m│\u001b[1m lat     \u001b[0m\u001b[1m lon      \u001b[0m\u001b[1m name       \u001b[0m\n",
       "     │\u001b[90m Float64 \u001b[0m\u001b[90m Float64  \u001b[0m\u001b[90m String15   \u001b[0m\n",
       "─────┼───────────────────────────────\n",
       "   1 │ 43.6561  -79.3807  Dundas\n",
       "   2 │ 43.6523  -79.3793  Queen\n",
       "   3 │ 43.6491  -79.378   King\n",
       "   4 │ 43.6457  -79.3805  Union\n",
       "   5 │ 43.6476  -79.3851  St Andrew\n",
       "   6 │ 43.6509  -79.3866  Osgoode\n",
       "   7 │ 43.6546  -79.3883  St Patrick"
      ]
     },
     "metadata": {},
     "output_type": "display_data"
    }
   ],
   "source": [
    "ttc = CSV.File(IOBuffer(ttc_data)) |> DataFrame"
   ]
  },
  {
   "cell_type": "code",
   "execution_count": 32,
   "metadata": {},
   "outputs": [
    {
     "ename": "MethodError",
     "evalue": "MethodError: no method matching add_vertex!(::Graphs.SimpleGraphs.SimpleDiGraph{Int64})\nClosest candidates are:\n  add_vertex!(!Matched::SimpleDiGraph{T}) where T at ~/.julia/packages/LightGraphs/IgJif/src/SimpleGraphs/simpledigraph.jl:449\n  add_vertex!(!Matched::SimpleGraph{T}) where T at ~/.julia/packages/LightGraphs/IgJif/src/SimpleGraphs/simplegraph.jl:526",
     "output_type": "error",
     "traceback": [
      "MethodError: no method matching add_vertex!(::Graphs.SimpleGraphs.SimpleDiGraph{Int64})\n",
      "Closest candidates are:\n",
      "  add_vertex!(!Matched::SimpleDiGraph{T}) where T at ~/.julia/packages/LightGraphs/IgJif/src/SimpleGraphs/simpledigraph.jl:449\n",
      "  add_vertex!(!Matched::SimpleGraph{T}) where T at ~/.julia/packages/LightGraphs/IgJif/src/SimpleGraphs/simplegraph.jl:526\n",
      "\n",
      "Stacktrace:\n",
      " [1] top-level scope\n",
      "   @ ~/Documents/Documents - spectra/Dev/Julia/abm-dsap/code/04-OSM-SIR/04-OSM-SIR-nb.jl.ipynb:14"
     ]
    }
   ],
   "source": [
    "function add_graph_edge!(m::MapData, va::Int, vb::Int;symmetric=false)\n",
    "    LightGraphs.add_edge!(m.g, va, vb)\n",
    "    push!(m.e,(m.n[va], m.n[vb]) )\n",
    "    symmetric && add_graph_edge!(m, vb, va; symmetric=false)\n",
    "end\n",
    "\n",
    "wI, wJ, wV = findnz(m.w) \n",
    "agent_speed = 3_000/60 # meters in minute (that  is 3km/h)\n",
    "wV = wV ./ agent_speed # all distances in minutes instead of meters\n",
    "points = [ENU(LLA(ttc.lat[t], ttc.lon[t]), m.bounds) for t in 1:nrow(ttc)]\n",
    "nodecs = nearest_node.(Ref(m), points)\n",
    "\n",
    "for t in 1:nrow(ttc)\n",
    "    LightGraphs.add_vertex!(m.g)\n",
    "    vx = nv(m.g)        \n",
    "    push!(m.n, -vx) # add vertex to MapData - negative indices are used for special purposes\n",
    "                   #for simplicity we assume no identifier clash\n",
    "    m.nodes[-vx] = points[t]\n",
    "    m.v[-vx] = vx\n",
    "    vc = m.v[nodecs[t]]\n",
    "    \n",
    "    add_graph_edge!(m, vc, vx; symmetric=true)\n",
    "    \n",
    "    append!(wI, [vx, vc])\n",
    "    append!(wJ, [vc, vx])\n",
    "    append!(wV, [3.0, 3.0]) # getting in or out of TTC takes 3 minutes    \n",
    "    if t>1  #build the TTC line in graph \n",
    "        add_graph_edge!(m, vx-1, vx; symmetric=false)\n",
    "        append!(wI, vx-1)\n",
    "        append!(wJ, vx)\n",
    "        append!(wV, 2.0) # TTC travels 2 minutes between stops \n",
    "                                # this is a simplificatio of course real data\n",
    "                                # could be used\n",
    "        \n",
    "    end\n",
    "    \n",
    "end\n",
    "\n",
    "# now we construct the updated distance matrix:\n",
    "m.w = sparse(wI,wJ,wV)\n",
    "@assert size(m.w,1)==size(m.w,2)\n",
    "@assert size(m.w,1)==nv(m.g)"
   ]
  },
  {
   "cell_type": "code",
   "execution_count": 33,
   "metadata": {},
   "outputs": [],
   "source": [
    "using LightGraphs"
   ]
  },
  {
   "cell_type": "code",
   "execution_count": null,
   "metadata": {},
   "outputs": [],
   "source": []
  }
 ],
 "metadata": {
  "kernelspec": {
   "display_name": "Julia 1.8.2",
   "language": "julia",
   "name": "julia-1.8"
  },
  "language_info": {
   "file_extension": ".jl",
   "mimetype": "application/julia",
   "name": "julia",
   "version": "1.8.2"
  },
  "orig_nbformat": 4,
  "vscode": {
   "interpreter": {
    "hash": "31f2aee4e71d21fbe5cf8b01ff0e069b9275f58929596ceb00d14d90e3e16cd6"
   }
  }
 },
 "nbformat": 4,
 "nbformat_minor": 2
}
