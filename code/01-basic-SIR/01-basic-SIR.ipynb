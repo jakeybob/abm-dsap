{
 "cells": [
  {
   "cell_type": "markdown",
   "id": "168ec998",
   "metadata": {},
   "source": [
    "# SIR Agent Based Model"
   ]
  },
  {
   "cell_type": "markdown",
   "id": "71d4de45",
   "metadata": {},
   "source": [
    "## Introduction\n",
    "This is some introduction text.\n",
    "\n",
    "## Differential Equation Background(?)\n",
    "This is also some text.\n",
    "\n",
    "## ABM Background, pros and cons\n",
    "MOAR TXT"
   ]
  },
  {
   "cell_type": "markdown",
   "id": "2397ce48",
   "metadata": {},
   "source": [
    "## code setup\n",
    "\n",
    "* here we will start by ...."
   ]
  },
  {
   "cell_type": "code",
   "execution_count": 1,
   "id": "95d09136",
   "metadata": {
    "tags": []
   },
   "outputs": [
    {
     "name": "stderr",
     "output_type": "stream",
     "text": [
      "\u001b[32m\u001b[1m  Activating\u001b[22m\u001b[39m project at `~/Documents/Documents - spectra/Dev/Julia/abm-dsap/code/01-basic-SIR`\n"
     ]
    }
   ],
   "source": [
    "cd(@__DIR__)\n",
    "import Pkg\n",
    "Pkg.activate(\".\")\n",
    "Pkg.instantiate()\n",
    "\n",
    "using Agents, DataFrames, Distributions, Random, StatsPlots"
   ]
  },
  {
   "cell_type": "markdown",
   "id": "8acf5c39",
   "metadata": {},
   "source": [
    "* next we define what our Agent will look like."
   ]
  },
  {
   "cell_type": "code",
   "execution_count": 2,
   "id": "f7fc3127",
   "metadata": {},
   "outputs": [],
   "source": [
    "mutable struct Person <: AbstractAgent\n",
    "    id::Int64\n",
    "    status::Symbol\n",
    "end"
   ]
  }
 ],
 "metadata": {
  "kernelspec": {
   "display_name": "Julia 1.8.2",
   "language": "julia",
   "name": "julia-1.8"
  },
  "language_info": {
   "file_extension": ".jl",
   "mimetype": "application/julia",
   "name": "julia",
   "version": "1.8.2"
  }
 },
 "nbformat": 4,
 "nbformat_minor": 5
}
